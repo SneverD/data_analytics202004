{
 "cells": [
  {
   "cell_type": "markdown",
   "metadata": {},
   "source": [
    "# Homework 2 by Xiaocen Shang"
   ]
  },
  {
   "cell_type": "markdown",
   "metadata": {},
   "source": [
    "## problem 1"
   ]
  },
  {
   "cell_type": "code",
   "execution_count": 1,
   "metadata": {},
   "outputs": [],
   "source": [
    "def fibonacci(n):\n",
    "    if n <= 0:\n",
    "        return\n",
    "    if n == 1:\n",
    "        return [0]\n",
    "    if n == 2:\n",
    "        return [0,1]\n",
    "    else:\n",
    "        result = [0,1]\n",
    "        for i in range(2,n):\n",
    "            result.append(result[i-1] + result[i-2])\n",
    "        return result\n"
   ]
  },
  {
   "cell_type": "code",
   "execution_count": 2,
   "metadata": {},
   "outputs": [
    {
     "data": {
      "text/plain": [
       "[0, 1, 1, 2, 3, 5, 8, 13, 21, 34]"
      ]
     },
     "execution_count": 2,
     "metadata": {},
     "output_type": "execute_result"
    }
   ],
   "source": [
    "fibonacci(10)"
   ]
  },
  {
   "cell_type": "markdown",
   "metadata": {},
   "source": [
    "## problem 2"
   ]
  },
  {
   "cell_type": "code",
   "execution_count": 3,
   "metadata": {},
   "outputs": [],
   "source": [
    "import pandas as pd\n",
    "import os"
   ]
  },
  {
   "cell_type": "code",
   "execution_count": 4,
   "metadata": {},
   "outputs": [],
   "source": [
    "class student_data:\n",
    "    \n",
    "    def __init__(self,path):\n",
    "        self.dat = pd.read_csv(path, sep = \",\", header = None, names = ['student','room'])\n",
    "          \n",
    "    def student_lookup(self):\n",
    "        print('Please enter the student name or exit')\n",
    "        student_name = input()\n",
    "        while student_name:\n",
    "            if student_name.lower() == 'exit':\n",
    "                print('You choose to exit the program')\n",
    "                return\n",
    "            else:\n",
    "                result = self.dat.loc[self.dat['student'] == student_name]\n",
    "                print(result)\n",
    "                if result.empty == True:\n",
    "                    print('Student not found!')\n",
    "                else:\n",
    "                    print('Student: ' + student_name + ' Room: ' + result['room'].apply(str))\n",
    "            print('Please enter the student name or exit')\n",
    "            student_name = input()"
   ]
  },
  {
   "cell_type": "code",
   "execution_count": 5,
   "metadata": {},
   "outputs": [],
   "source": [
    "path = os.getcwd() + '/studentlist.txt'\n",
    "student_d = student_data(path)"
   ]
  },
  {
   "cell_type": "code",
   "execution_count": 6,
   "metadata": {
    "scrolled": false
   },
   "outputs": [
    {
     "name": "stdout",
     "output_type": "stream",
     "text": [
      "Please enter the student name or exit\n",
      "a\n",
      "Empty DataFrame\n",
      "Columns: [student, room]\n",
      "Index: []\n",
      "Student not found!\n",
      "Please enter the student name or exit\n",
      "dave\n",
      "  student  room\n",
      "1    dave     9\n",
      "1    Student: dave Room: 9\n",
      "Name: room, dtype: object\n",
      "Please enter the student name or exit\n",
      "exit\n",
      "You choose to exit the program\n"
     ]
    }
   ],
   "source": [
    "student_d.student_lookup()"
   ]
  },
  {
   "cell_type": "code",
   "execution_count": null,
   "metadata": {},
   "outputs": [],
   "source": []
  }
 ],
 "metadata": {
  "kernelspec": {
   "display_name": "Python 3",
   "language": "python",
   "name": "python3"
  },
  "language_info": {
   "codemirror_mode": {
    "name": "ipython",
    "version": 3
   },
   "file_extension": ".py",
   "mimetype": "text/x-python",
   "name": "python",
   "nbconvert_exporter": "python",
   "pygments_lexer": "ipython3",
   "version": "3.7.6"
  }
 },
 "nbformat": 4,
 "nbformat_minor": 4
}
